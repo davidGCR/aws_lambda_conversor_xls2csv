{
 "cells": [
  {
   "cell_type": "code",
   "execution_count": 22,
   "metadata": {},
   "outputs": [
    {
     "name": "stdout",
     "output_type": "stream",
     "text": [
      "<class '_io.TextIOWrapper'>\n",
      "<class 'list'>\n",
      "\n",
      "row:  NoTicket\tFechaRegistro\tMesRegistro\tHoraRegistro\tAnioRegistro\tSemanaAnio\tNombreAfiliado\tTipoIdentificacion\tNumeroDocumento\tCodigoAfiliado\tGrupoFamiliar\tPrograma\tServicio\tMotivoServicio\tTipoServicio\tDuracionServicio\tUsuarioRegistro\tNombreUsuarioRegistro\tDepartamentoUsuario\tDepartamentoOrigen\tUltFechaRegistro\tUltMesRegistro\tUltHoraRegistro\tUltAnioRegistro\tUltSemanaAnio\tUltDuracionPlanificada\tUltDuracionEjecutada\tUltUsuarioGestion\tUltIdUsuarioGestion\tUltDepartamento\tEnFechaRegistro\tEnMesRegistro\tEnHoraRegistro\tEnAnioRegistro\tEnSemanaAnio\tEnDuracionPlanificada\tEnDuracionEjecutada\tEnUsuarioGestion\tEnIdUsuarioGestion\tEnDepartamento\tEstadoServicio\tFechaCorreo\tTiempoEjecucionServicio\tObservacionInicial\tObservacionUltimaTarea\tEntidadReguladora\tIdEntidadSolicita\tEntidadSolicitaDescripcion\tIdEjecutor\tIdResponsable\tIdServicio\tIdCategoria\tIdSubCategoria\tIdPuntoOperacion\tIdDepartamentoResponsable\tIdDepartamentoEjecutor\tEstadoRequerimientoCode\tUltTareaNombre\tEnTareaNombre\tRes_Consulta\tRes_Reclamo\tRes_Requerimiento\tNom_Contacto\tValida_Audio\tNvo_Servicio\tNvo_Motivo\tProgramaAunaSalud\n",
      " <class 'str'>\n",
      "\n",
      "row:  SOC-230120-3852562\t2023-01-20 23:17:36\t1\t23:17:36\t2023\t3\tAZURIN CORONEL, HECTOR EDGARDO\tDNI\t44011888\t03834257\t0001816669\tONCOLÓGICO PROGRAMA ONCOCLÁSIC\tREACTIVACION DE SEGURO\tLEVANTAMIENTO DE BAJA\tRequerimiento\t15.00\tdcuya\tCUYA AVILA DIANA ELENA ELVIA\tBack Office - Correos\tBack Office - Correos\t\t\t\t\t\t\t\t\t\t\t2023-01-23 09:00:00\t1\t09:00:00\t2023\t4\t15.00\t0.00\tFLORES CASTILLO LESLY ROXANA\tlfloresc\tBack Office\tEn Curso\t2023-01-19\t0.17\t<hectorazu26@gmail.com> jue, 19 ene, 11:28 (hace 1 día) para contactos  Buenos días señores de oncosalud,mi nombre es hector Azurin coronel escribo para solicitar la reactivación de mi seguro ya que estuve de viaje y no pude hacer los pagos correspondientes,se podrá reactivar ya que estuve pagando puntualmente mis cuotas por largos 3 años o más espero que se pueda \t\t\u0000\t44011888\tAZURIN CORONEL, HECTOR EDGARDO\tncoz\tncoz\t1340\t6\t17\t1\t1\t4407\tA\t\tANALISIS Y SOLUCION DEL CASO\t\t\t\tHECTOR EDGARDO\t\t\t\t\n",
      " <class 'str'>\n",
      "\n",
      "row:  SOC-230120-3852561\t2023-01-20 23:15:20\t1\t23:15:20\t2023\t3\tOJEDA MIRANDA, OSKAR OSWALDO\tDNI\t18217261\t03563322\t0001542140\tONCOLÓGICO PROGRAMA ONCOPLUS\tCARGOS NO RECONOCIDO POR AFILIADO\t\tReclamo\t15.00\tdcuya\tCUYA AVILA DIANA ELENA ELVIA\tBack Office - Correos\tBack Office - Correos\t\t\t\t\t\t\t\t\t\t\t2023-01-23 09:00:00\t1\t09:00:00\t2023\t4\t15.00\t0.00\tCRUZ CORRA ENRIQUE MARTIN\tecruzc\tBack Office\tEn Curso\t2023-01-19\t0.17\t<oskarojeda@autobacks.pe>  Buenas Tardes Sres. Oncosalud le Saluda Oskar Ojeda Miranda con DNI. 18217261, les Comento que me siento muy Mortificado con esta Compañía ya que siendo un cliente puntual de hace varios años , el día de ayer 18 de Enero del 2023  he tenido un cobro Indebido de  S/.348.90 Soles por el mes ya que mi pago mensual es mucho menos.    Por Favor Solicito la devolución de mi Dinero lo mas Pronto posible ya que estoy tratando con una Compañía seria, en caso contrario me tendré que retirar de este programa oncológico al igual que toda mi familia.     PD. Adjunto voucher de Cobro por parte de ustedes en la Tarjeta de Crédito.      Espero una Pronta Solución.      Muchas Gracias.      Oskar O. Ojeda Miranda Jefe de Ventas - Honda Peru\t\t\u0000\t18217261\tOJEDA MIRANDA, OSKAR OSWALDO\tncoz\tncoz\t1436\t6\t18\t1\t1\t4406\tA\t\tÁnalisis y solución del caso\t\t\t\tOSKAR OSWALDO\t\t\t\t\u0000\n",
      " <class 'str'>\n"
     ]
    }
   ],
   "source": [
    "from xlwt import Workbook\n",
    "# Used to open to corrupt excel file\n",
    "import io\n",
    "\n",
    "input_dir = r\"C:\\Users\\ZAT02\\Downloads\\MKF-CUOTAS_GESTIONADAS\\landing-SAR\\SAR-UG-20012023.xls\"\n",
    "output_dir = r\"C:\\Users\\ZAT02\\Downloads\\MKF-CUOTAS_GESTIONADAS\\landing-SAR\\xlsx\\SAR-UG-20012023-2000.xlsx\"\n",
    "\n",
    "filename = input_dir\n",
    "output_dir = r\"C:\\Users\\ZAT02\\Downloads\\MKF-CUOTAS_GESTIONADAS\\landing-SAR\\xlsx2\\SAR-UG-20012023-2000.xls\"\n",
    "# Opening the file using 'utf-16' encoding\n",
    "file1 = io.open(filename, \"r\", encoding=\"utf-16\")\n",
    "print(type(file1))\n",
    "data = file1.readlines()\n",
    "print(type(data))\n",
    "# Creating a workbook object\n",
    "xldoc = Workbook()\n",
    "# Adding a sheet to the workbook object\n",
    "sheet = xldoc.add_sheet(\"Sheet1\", cell_overwrite_ok=True)\n",
    "# Iterating and saving the data to sheet\n",
    "for i, row in enumerate(data):\n",
    "    print(\"\\nrow: \", row, type(row))\n",
    "    # Two things are done here\n",
    "    # Removeing the '\\n' which comes while reading the file using io.open\n",
    "    # Getting the values after splitting using '\\t'\n",
    "    if i==2: break\n",
    "    for j, val in enumerate(row.replace('\\n', '').split('\\t')):\n",
    "        sheet.write(i, j, val)\n",
    "    \n",
    "# Saving the file as an excel file\n",
    "# xldoc.save(output_dir)"
   ]
  },
  {
   "cell_type": "code",
   "execution_count": 10,
   "metadata": {},
   "outputs": [
    {
     "name": "stdout",
     "output_type": "stream",
     "text": [
      "[{'Key': 'structured-data/OLAP/dwh-gestionsalud/pry-gs-marketforceintermedio/xls_sar_prd/', 'LastModified': datetime.datetime(2023, 2, 3, 0, 16, 50, tzinfo=tzutc()), 'ETag': '\"d41d8cd98f00b204e9800998ecf8427e\"', 'Size': 0, 'StorageClass': 'STANDARD'}, {'Key': 'structured-data/OLAP/dwh-gestionsalud/pry-gs-marketforceintermedio/xls_sar_prd/SAR-UG-16012023.xls', 'LastModified': datetime.datetime(2023, 2, 3, 0, 17, 38, tzinfo=tzutc()), 'ETag': '\"4484a54d5b482f4afb48681e9bcad97d\"', 'Size': 5708378, 'StorageClass': 'STANDARD'}, {'Key': 'structured-data/OLAP/dwh-gestionsalud/pry-gs-marketforceintermedio/xls_sar_prd/SAR-UG-17012023.xls', 'LastModified': datetime.datetime(2023, 2, 3, 0, 17, 36, tzinfo=tzutc()), 'ETag': '\"11984a8675656a90aef64a72d1a301f1\"', 'Size': 5234494, 'StorageClass': 'STANDARD'}, {'Key': 'structured-data/OLAP/dwh-gestionsalud/pry-gs-marketforceintermedio/xls_sar_prd/SAR-UG-18012023.xls', 'LastModified': datetime.datetime(2023, 2, 3, 0, 17, 34, tzinfo=tzutc()), 'ETag': '\"717078dbd846e78e1d8c8f9ca4e29de8\"', 'Size': 5064456, 'StorageClass': 'STANDARD'}, {'Key': 'structured-data/OLAP/dwh-gestionsalud/pry-gs-marketforceintermedio/xls_sar_prd/SAR-UG-19012023.xls', 'LastModified': datetime.datetime(2023, 2, 3, 0, 17, 42, tzinfo=tzutc()), 'ETag': '\"8bc5976e51820f4aff1494fd7eebc7ae\"', 'Size': 4751096, 'StorageClass': 'STANDARD'}, {'Key': 'structured-data/OLAP/dwh-gestionsalud/pry-gs-marketforceintermedio/xls_sar_prd/SAR-UG-20012023.xls', 'LastModified': datetime.datetime(2023, 2, 3, 0, 17, 40, tzinfo=tzutc()), 'ETag': '\"229e324232bfffe6e581db9dd0eb5bc7\"', 'Size': 4141994, 'StorageClass': 'STANDARD'}]\n"
     ]
    }
   ],
   "source": [
    "import boto3\n",
    "import io\n",
    "\n",
    "s3_client = boto3.client('s3')\n",
    "bucket_name = \"auna-dlaqa-raw-s3\"\n",
    "file_name = \"structured-data/OLAP/dwh-gestionsalud/pry-gs-marketforceintermedio/xls_sar_prd/SAR-UG-16012023.xls\"\n",
    "response = s3_client.list_objects_v2(Bucket=bucket_name, Prefix=\"structured-data/OLAP/dwh-gestionsalud/pry-gs-marketforceintermedio/xls_sar_prd/\")\n",
    "files = response.get(\"Contents\")\n",
    "print(files)"
   ]
  },
  {
   "cell_type": "code",
   "execution_count": 16,
   "metadata": {},
   "outputs": [],
   "source": [
    "import io\n",
    "def bytesio_to_stringio(bytes_str):\n",
    "    data = io.BytesIO(bytes_str)\n",
    "    # Create an instance of io.TextIOWrapper class.\n",
    "    text_wrapper = io.TextIOWrapper(data, encoding='utf-8')\n",
    "    str = text_wrapper.read()\n",
    "    str_io_object = io.StringIO(str)\n",
    "    print(str_io_object)  \n",
    "    print(str) "
   ]
  },
  {
   "attachments": {},
   "cell_type": "markdown",
   "metadata": {},
   "source": [
    "## Get a corrupt xls from S3 and fix it"
   ]
  },
  {
   "cell_type": "code",
   "execution_count": 11,
   "metadata": {},
   "outputs": [],
   "source": [
    "import boto3\n",
    "import io\n",
    "import pandas as pd\n",
    "from xlwt import Workbook\n",
    "bucket_name = \"auna-dlaqa-raw-s3\"\n",
    "key = \"structured-data/OLAP/dwh-gestionsalud/pry-gs-marketforceintermedio/xls_sar_prd/SAR-UG-19012023.xls\"\n",
    "# local_output_dir = r\"C:\\Users\\ZAT02\\Downloads\\MKF-CUOTAS_GESTIONADAS\\landing-SAR\\xlsx2\\test2.xls\"\n",
    "s3_output_file = \"structured-data/OLAP/dwh-gestionsalud/pry-gs-marketforceintermedio/xls_sar_prd/test3.xls\"\n",
    "s3 = boto3.resource('s3')\n",
    "bucket = s3.Bucket(bucket_name)\n",
    "object = bucket.Object(key)\n",
    "data = object.get().get('Body').read()\n",
    "# Convert to a \"unicode\" object\n",
    "text_obj = data.decode('UTF-16')  # Or use the encoding you expect\n",
    "# Use text_obj how you see fit!\n",
    "data = io.StringIO(text_obj)\n",
    "xldoc = Workbook()\n",
    "# Adding a sheet to the workbook object\n",
    "sheet = xldoc.add_sheet(\"Sheet1\", cell_overwrite_ok=True)\n",
    "# Iterating and saving the data to sheet\n",
    "for i, row in enumerate(data):\n",
    "    # print(row)\n",
    "    # Two things are done here\n",
    "    # Removeing the '\\n' which comes while reading the file using io.open\n",
    "    # Getting the values after splitting using '\\t'\n",
    "    for j, val in enumerate(row.replace('\\n', '').split('\\t')):\n",
    "        sheet.write(i, j, val)\n",
    "buffer = io.BytesIO() \n",
    "xldoc.save(buffer)\n",
    "# Put object to S3\n",
    "s3_resource = boto3.resource('s3')\n",
    "response = s3_resource.Object(bucket_name, s3_output_file).put(Body=buffer.getvalue())"
   ]
  },
  {
   "cell_type": "code",
   "execution_count": 12,
   "metadata": {},
   "outputs": [
    {
     "data": {
      "text/plain": [
       "{'ResponseMetadata': {'RequestId': '8TW5CBZV04PVFGJG',\n",
       "  'HostId': 'VFB6dz0AcEsTGPW5T9RHsiBKLbJstwJMpJzVque/g4K2TyHwfmFOWxIlkKUQnwtqA9tUWrVvoOE=',\n",
       "  'HTTPStatusCode': 200,\n",
       "  'HTTPHeaders': {'x-amz-id-2': 'VFB6dz0AcEsTGPW5T9RHsiBKLbJstwJMpJzVque/g4K2TyHwfmFOWxIlkKUQnwtqA9tUWrVvoOE=',\n",
       "   'x-amz-request-id': '8TW5CBZV04PVFGJG',\n",
       "   'date': 'Fri, 03 Feb 2023 02:05:46 GMT',\n",
       "   'x-amz-version-id': 'uc5gQW9fAlqkhHBQtEJIlM2R5r3yMmT2',\n",
       "   'etag': '\"4c88633357e5db5dbe19970fe565e5ed\"',\n",
       "   'server': 'AmazonS3',\n",
       "   'content-length': '0'},\n",
       "  'RetryAttempts': 0},\n",
       " 'ETag': '\"4c88633357e5db5dbe19970fe565e5ed\"',\n",
       " 'VersionId': 'uc5gQW9fAlqkhHBQtEJIlM2R5r3yMmT2'}"
      ]
     },
     "execution_count": 12,
     "metadata": {},
     "output_type": "execute_result"
    }
   ],
   "source": [
    "response"
   ]
  },
  {
   "cell_type": "code",
   "execution_count": 14,
   "metadata": {},
   "outputs": [
    {
     "data": {
      "text/plain": [
       "200"
      ]
     },
     "execution_count": 14,
     "metadata": {},
     "output_type": "execute_result"
    }
   ],
   "source": [
    "response['ResponseMetadata']['HTTPStatusCode']"
   ]
  },
  {
   "attachments": {},
   "cell_type": "markdown",
   "metadata": {},
   "source": [
    "## Verify fixed xls"
   ]
  },
  {
   "cell_type": "code",
   "execution_count": null,
   "metadata": {},
   "outputs": [],
   "source": []
  },
  {
   "cell_type": "code",
   "execution_count": 10,
   "metadata": {},
   "outputs": [
    {
     "name": "stdout",
     "output_type": "stream",
     "text": [
      "             NoTicket        FechaRegistro  MesRegistro HoraRegistro  \\\n",
      "0  SOC-230119-3849989  2023-01-19 23:48:42            1     23:48:42   \n",
      "1  SOC-230119-3849988  2023-01-19 23:47:06            1     23:47:06   \n",
      "2  SOC-230119-3849987  2023-01-19 23:45:57            1     23:45:57   \n",
      "3  SOC-230119-3849986  2023-01-19 23:38:41            1     23:38:41   \n",
      "4  SOC-230119-3849985  2023-01-19 23:31:15            1     23:31:15   \n",
      "\n",
      "   AnioRegistro  SemanaAnio                      NombreAfiliado  \\\n",
      "0          2023           3       ULLOA ESPINOZA, MARIA CECILIA   \n",
      "1          2023           3      CORDOVA ROQUE, MARIA PETRONILA   \n",
      "2          2023           3         SEGURA PINTO, ROCIO SACELIN   \n",
      "3          2023           3  CAMACHO DE AYAIPOMA, ANA MARIA ORE   \n",
      "4          2023           3           RAMOS RUIZ, MARTIN ALONSO   \n",
      "\n",
      "  TipoIdentificacion NumeroDocumento CodigoAfiliado  ...   UltTareaNombre  \\\n",
      "0                DNI        18108845              \u0000  ...              NaN   \n",
      "1                DNI        06213571       00072486  ...              NaN   \n",
      "2                DNI        72662256              \u0000  ...              NaN   \n",
      "3                DNI        07939471       00012354  ...  Con devolución?   \n",
      "4                DNI        47643946       04037158  ...              NaN   \n",
      "\n",
      "                  EnTareaNombre Res_Consulta Res_Reclamo Res_Requerimiento  \\\n",
      "0                             \u0000          NaN         NaN               NaN   \n",
      "1  ANALISIS Y SOLUCION DEL CASO          NaN         NaN               NaN   \n",
      "2  ANALISIS Y SOLUCION DEL CASO          NaN         NaN               NaN   \n",
      "3           Baja con Devolución          NaN         NaN               NaN   \n",
      "4  ANALISIS Y SOLUCION DEL CASO          NaN         NaN               NaN   \n",
      "\n",
      "   Nom_Contacto Valida_Audio Nvo_Servicio Nvo_Motivo ProgramaAunaSalud\\r  \n",
      "0           NaN          NaN          NaN        NaN                  \\r  \n",
      "1           NaN          NaN          NaN        NaN                  \\r  \n",
      "2           NaN          NaN          NaN        NaN                  \\r  \n",
      "3           NaN          NaN          NaN        NaN                  \\r  \n",
      "4           NaN          NaN          NaN        NaN                  \\r  \n",
      "\n",
      "[5 rows x 67 columns]\n"
     ]
    }
   ],
   "source": [
    "s3 = boto3.client('s3')\n",
    "obj = s3.get_object(Bucket=bucket_name, Key=s3_output_file)\n",
    "data = obj['Body'].read()\n",
    "df = pd.read_excel(io.BytesIO(data), engine='xlrd')\n",
    "# df_mkf=pd.read_excel(output_dir,engine='xlrd')\n",
    "print(df.head())"
   ]
  }
 ],
 "metadata": {
  "kernelspec": {
   "display_name": ".env",
   "language": "python",
   "name": "python3"
  },
  "language_info": {
   "codemirror_mode": {
    "name": "ipython",
    "version": 3
   },
   "file_extension": ".py",
   "mimetype": "text/x-python",
   "name": "python",
   "nbconvert_exporter": "python",
   "pygments_lexer": "ipython3",
   "version": "3.9.13"
  },
  "orig_nbformat": 4,
  "vscode": {
   "interpreter": {
    "hash": "6c254e5a131ea6b25fafa824d25304ecacd4f3326311abd32782154da678cb24"
   }
  }
 },
 "nbformat": 4,
 "nbformat_minor": 2
}
